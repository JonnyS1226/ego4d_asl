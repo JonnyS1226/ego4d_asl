{
 "cells": [
  {
   "cell_type": "code",
   "execution_count": 1,
   "metadata": {},
   "outputs": [
    {
     "name": "stderr",
     "output_type": "stream",
     "text": [
      "/home/sjy/anaconda3/envs/py38/lib/python3.8/site-packages/tqdm/auto.py:22: TqdmWarning: IProgress not found. Please update jupyter and ipywidgets. See https://ipywidgets.readthedocs.io/en/stable/user_install.html\n",
      "  from .autonotebook import tqdm as notebook_tqdm\n"
     ]
    },
    {
     "name": "stdout",
     "output_type": "stream",
     "text": [
      "1 ok\n",
      "2 ok\n",
      "3 ok\n",
      "4 ok\n",
      "5 ok\n"
     ]
    }
   ],
   "source": [
    "import torch\n",
    "# model1\n",
    "ckpt1 = torch.load(\"/sdb/sjy/projects/tal_dev/logs/baseline/epoch_011.pth.tar\", map_location=\"cpu\")\n",
    "print(\"1 ok\")\n",
    "\n",
    "# model2\n",
    "ckpt2 = torch.load(\"/sdb/sjy/projects/tal_dev/logs/baseline_1/epoch_011.pth.tar\", map_location=\"cpu\")\n",
    "print(\"2 ok\")\n",
    "\n",
    "# model3\n",
    "ckpt3 = torch.load(\"/sdb/sjy/projects/tal_dev/logs/baseline_2/epoch_011.pth.tar\", map_location=\"cpu\")\n",
    "print(\"3 ok\")\n",
    "\n",
    "# model4\n",
    "ckpt4 = torch.load(\"/sdb/sjy/projects/tal_dev/logs/baseline_3/epoch_011.pth.tar\", map_location=\"cpu\")\n",
    "print(\"4 ok\")\n",
    "\n",
    "# model5\n",
    "ckpt5 = torch.load(\"/sdb/sjy/projects/tal_dev/logs/baseline_4/epoch_011.pth.tar\", map_location=\"cpu\")\n",
    "print(\"5 ok\")\n",
    "\n"
   ]
  },
  {
   "cell_type": "code",
   "execution_count": 2,
   "metadata": {},
   "outputs": [
    {
     "data": {
      "text/plain": [
       "dict_keys(['epoch', 'state_dict', 'scheduler', 'optimizer', 'state_dict_ema'])"
      ]
     },
     "execution_count": 2,
     "metadata": {},
     "output_type": "execute_result"
    }
   ],
   "source": [
    "ckpt_ensemble = ckpt1\n",
    "for (k1, v1), (k2, v2), (k3, v3), (k4, v4), (k5, v5) in zip(ckpt1['state_dict_ema'].items(), ckpt2['state_dict_ema'].items(), ckpt3['state_dict_ema'].items(), ckpt4['state_dict_ema'].items(), ckpt5['state_dict_ema'].items()):\n",
    "    ckpt_ensemble['state_dict_ema'][k1] = (v1 + v2 + v3 + v4 + v5) / 5.0\n",
    "ckpt_ensemble.keys()"
   ]
  },
  {
   "cell_type": "code",
   "execution_count": 3,
   "metadata": {},
   "outputs": [],
   "source": [
    "torch.save(ckpt_ensemble, \"/sdb/sjy/projects/tal_dev/ensemble_model/ensemble0_4.pth.tar\")"
   ]
  }
 ],
 "metadata": {
  "kernelspec": {
   "display_name": "py38",
   "language": "python",
   "name": "python3"
  },
  "language_info": {
   "codemirror_mode": {
    "name": "ipython",
    "version": 3
   },
   "file_extension": ".py",
   "mimetype": "text/x-python",
   "name": "python",
   "nbconvert_exporter": "python",
   "pygments_lexer": "ipython3",
   "version": "3.8.13"
  },
  "orig_nbformat": 4
 },
 "nbformat": 4,
 "nbformat_minor": 2
}
